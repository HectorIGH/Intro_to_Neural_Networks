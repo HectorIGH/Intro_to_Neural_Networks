{
 "cells": [
  {
   "cell_type": "code",
   "execution_count": 634,
   "metadata": {},
   "outputs": [],
   "source": [
    "import numpy as np\n",
    "import pandas as pd\n",
    "import matplotlib.pyplot as plt\n",
    "import time\n",
    "import scypy"
   ]
  },
  {
   "cell_type": "markdown",
   "metadata": {},
   "source": [
    "# ELM para la XOR"
   ]
  },
  {
   "cell_type": "code",
   "execution_count": 769,
   "metadata": {},
   "outputs": [],
   "source": [
    "def activation(x):\n",
    "    return np.log(1 + np.exp(x)) # SoftPlus\n",
    "    #return np.maximum(x, 0, x) # RELU\n",
    "    #return 1.0 / (1.0 - np.exp(-x)) # Sigmoid\n",
    "\n",
    "def predict(x, W1, W2):\n",
    "    x = np.matrix(x)\n",
    "    return activation(x @ W1) @ W2\n",
    "\n",
    "def train(x, y, W1):\n",
    "    X = np.matrix(x)\n",
    "    Y = np.matrix(y)\n",
    "    H = np.matrix(activation(X @ W1))\n",
    "    #U, S, Vt = np.linalg.svd(H, full_matrices = False)\n",
    "    #V = np.matrix(Vt).T\n",
    "    #iH = np.matrix(V) @ np.matrix(np.diag(S)).I @ np.matrix(U).T\n",
    "    iH = np.linalg.pinv(H) # Moore - Penrose pseudo inverse\n",
    "    W2 = iH @ Y\n",
    "    return H @ W2 - Y, W2"
   ]
  },
  {
   "cell_type": "code",
   "execution_count": 770,
   "metadata": {},
   "outputs": [
    {
     "data": {
      "text/plain": [
       "array([[0, 0, 0, 1],\n",
       "       [0, 1, 0, 1],\n",
       "       [1, 0, 1, 0],\n",
       "       [1, 1, 0, 1]], dtype=int64)"
      ]
     },
     "execution_count": 770,
     "metadata": {},
     "output_type": "execute_result"
    }
   ],
   "source": [
    "data = pd.read_csv('C:/Users/Hector Garcia/Dropbox/Maestría CIC/02 - Segundo Semestre/Introducción a las redes neuronales artificiales/Tareas/05 LaTeX/code/gates.csv').values\n",
    "data.view()"
   ]
  },
  {
   "cell_type": "code",
   "execution_count": 771,
   "metadata": {},
   "outputs": [
    {
     "name": "stdout",
     "output_type": "stream",
     "text": [
      "(4, 2)\n"
     ]
    }
   ],
   "source": [
    "X_train, Y_train = data[:,:-2], data[:,-2:]\n",
    "X_test, Y_test = data[:,:-2], data[:,-2:]\n",
    "\n",
    "print(X_train.shape)"
   ]
  },
  {
   "cell_type": "code",
   "execution_count": 772,
   "metadata": {},
   "outputs": [
    {
     "name": "stdout",
     "output_type": "stream",
     "text": [
      "(4, 2)\n",
      "(4, 2)\n",
      "(4, 2)\n",
      "(4, 2)\n"
     ]
    }
   ],
   "source": [
    "#X_train = inputs.reshape(1,-1)\n",
    "#targets = targets.reshape(1,-1)\n",
    "print(X_train.shape)\n",
    "print(Y_train.shape)\n",
    "print(X_test.shape)\n",
    "print(Y_test.shape)"
   ]
  },
  {
   "cell_type": "code",
   "execution_count": 773,
   "metadata": {},
   "outputs": [],
   "source": [
    "# Input dimension\n",
    "N = X_train.shape[1]\n",
    "# Hidden layer dimension\n",
    "M = 4\n",
    "# Output dimension\n",
    "O = 2\n",
    "np.random.seed(10)\n",
    "W1 = np.matrix(np.random.random(size = [N, M]))\n",
    "W2 = np.matrix(np.random.random(size = [M, O]))"
   ]
  },
  {
   "cell_type": "code",
   "execution_count": 774,
   "metadata": {},
   "outputs": [
    {
     "name": "stdout",
     "output_type": "stream",
     "text": [
      "Time to train: 0.0020017623901367188\n"
     ]
    }
   ],
   "source": [
    "t0 = time.time()\n",
    "H, W2 = train(X_train, Y_train, W1)\n",
    "print(f'Time to train: {time.time() - t0}')"
   ]
  },
  {
   "cell_type": "code",
   "execution_count": 764,
   "metadata": {},
   "outputs": [
    {
     "data": {
      "text/plain": [
       "(4, 2)"
      ]
     },
     "execution_count": 764,
     "metadata": {},
     "output_type": "execute_result"
    }
   ],
   "source": [
    "pred = predict(X_test, W1, W2).reshape(-1, Y_test.shape[1])\n",
    "pred.shape"
   ]
  },
  {
   "cell_type": "code",
   "execution_count": 765,
   "metadata": {},
   "outputs": [
    {
     "name": "stdout",
     "output_type": "stream",
     "text": [
      "Correct: 4 out of 4 for an accuracy: 1.0\n"
     ]
    }
   ],
   "source": [
    "correct = 0\n",
    "total = pred.shape[0]\n",
    "for i in range(total):\n",
    "  predicted = np.argmax(pred[i])\n",
    "  test = np.argmax(Y_test[i])\n",
    "  correct += (1 if predicted == test else 0)\n",
    "\n",
    "print(f'Correct: {correct} out of {total} for an accuracy: {correct / total}')"
   ]
  },
  {
   "cell_type": "markdown",
   "metadata": {},
   "source": [
    "# Cálculo de pseudo inversa"
   ]
  },
  {
   "cell_type": "code",
   "execution_count": 814,
   "metadata": {},
   "outputs": [],
   "source": [
    "matrix = np.random.normal(size = [100, 100])\n",
    "#plt.imshow(matrix, cmap = 'gray')"
   ]
  },
  {
   "cell_type": "code",
   "execution_count": 815,
   "metadata": {},
   "outputs": [],
   "source": [
    "inv = np.linalg.pinv(matrix)\n",
    "#plt.imshow(inv, cmap = 'gray')"
   ]
  },
  {
   "cell_type": "code",
   "execution_count": 816,
   "metadata": {},
   "outputs": [],
   "source": [
    "iden = np.round(inv@matrix)\n",
    "#plt.imshow(iden, cmap = 'gray')"
   ]
  },
  {
   "cell_type": "code",
   "execution_count": 817,
   "metadata": {},
   "outputs": [],
   "source": [
    "%matplotlib qt\n",
    "fig, axs = plt.subplots(1,3)\n",
    "count = 0\n",
    "\n",
    "ax0 = axs[0]\n",
    "ax0.pcolor(np.flipud(matrix), cmap = 'gray')\n",
    "ax0.axis('off')\n",
    "ax0.axis('equal')\n",
    "ax0.set_title('Random Matrix').set_position([0.5, .75])\n",
    "\n",
    "ax1 = axs[1]\n",
    "ax1.pcolor(np.flipud(inv), cmap = 'gray')\n",
    "ax1.axis('off')\n",
    "ax1.axis('equal')\n",
    "ax1.set_title('Inverse Matrix').set_position([0.5, .75])\n",
    "\n",
    "ax2 = axs[2]\n",
    "ax2.pcolor(np.flipud(iden), cmap = 'gray')\n",
    "ax2.axis('off')\n",
    "ax2.axis('equal')\n",
    "ax2.set_title('Identity Matrix').set_position([0.5, .75])\n",
    "\n",
    "        \n",
    "fig.tight_layout()\n",
    "plt.show()"
   ]
  },
  {
   "cell_type": "code",
   "execution_count": null,
   "metadata": {},
   "outputs": [],
   "source": []
  }
 ],
 "metadata": {
  "kernelspec": {
   "display_name": "Python 3",
   "language": "python",
   "name": "python3"
  },
  "language_info": {
   "codemirror_mode": {
    "name": "ipython",
    "version": 3
   },
   "file_extension": ".py",
   "mimetype": "text/x-python",
   "name": "python",
   "nbconvert_exporter": "python",
   "pygments_lexer": "ipython3",
   "version": "3.7.3"
  }
 },
 "nbformat": 4,
 "nbformat_minor": 2
}
